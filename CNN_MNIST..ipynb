{
 "cells": [
  {
   "cell_type": "code",
   "execution_count": 21,
   "metadata": {
    "colab": {
     "base_uri": "https://localhost:8080/",
     "height": 551
    },
    "colab_type": "code",
    "executionInfo": {
     "elapsed": 1970705,
     "status": "ok",
     "timestamp": 1524577821923,
     "user": {
      "displayName": "Applied AI Course",
      "photoUrl": "//lh3.googleusercontent.com/-EsJzSyawCkQ/AAAAAAAAAAI/AAAAAAAAAWk/jhKHALKaHag/s50-c-k-no/photo.jpg",
      "userId": "116292885805316472049"
     },
     "user_tz": -330
    },
    "id": "H9EU0e8yzFOm",
    "outputId": "b9a7331d-3a52-4991-f4a2-eaa64e288eb9"
   },
   "outputs": [
    {
     "name": "stdout",
     "output_type": "stream",
     "text": [
      "x_train shape: (60000, 28, 28, 1)\n",
      "60000 train samples\n",
      "10000 test samples\n"
     ]
    }
   ],
   "source": [
    "# Credits: https://github.com/keras-team/keras/blob/master/examples/mnist_cnn.py\n",
    "\n",
    "\n",
    "from __future__ import print_function\n",
    "import keras\n",
    "from keras.datasets import mnist\n",
    "from keras.models import Sequential\n",
    "from keras.layers import Dense, Dropout, Flatten,BatchNormalization\n",
    "from keras.layers import Conv2D, MaxPooling2D\n",
    "from keras import backend as K\n",
    "\n",
    "batch_size = 128\n",
    "num_classes = 10\n",
    "epochs = 12\n",
    "\n",
    "# input image dimensions\n",
    "img_rows, img_cols = 28, 28\n",
    "\n",
    "# the data, split between train and test sets\n",
    "(x_train, y_train), (x_test, y_test) = mnist.load_data()\n",
    "\n",
    "if K.image_data_format() == 'channels_first':\n",
    "    x_train = x_train.reshape(x_train.shape[0], 1, img_rows, img_cols)\n",
    "    x_test = x_test.reshape(x_test.shape[0], 1, img_rows, img_cols)\n",
    "    input_shape = (1, img_rows, img_cols)\n",
    "else:\n",
    "    x_train = x_train.reshape(x_train.shape[0], img_rows, img_cols, 1)\n",
    "    x_test = x_test.reshape(x_test.shape[0], img_rows, img_cols, 1)\n",
    "    input_shape = (img_rows, img_cols, 1)\n",
    "\n",
    "x_train = x_train.astype('float32')\n",
    "x_test = x_test.astype('float32')\n",
    "x_train /= 255\n",
    "x_test /= 255\n",
    "print('x_train shape:', x_train.shape)\n",
    "print(x_train.shape[0], 'train samples')\n",
    "print(x_test.shape[0], 'test samples')\n",
    "\n",
    "# convert class vectors to binary class matrices\n",
    "y_train = keras.utils.to_categorical(y_train, num_classes)\n",
    "y_test = keras.utils.to_categorical(y_test, num_classes)\n",
    "\n"
   ]
  },
  {
   "cell_type": "code",
   "execution_count": 10,
   "metadata": {},
   "outputs": [],
   "source": [
    "\n",
    "import matplotlib.pyplot as plt\n",
    "%matplotlib notebook\n",
    "import matplotlib.pyplot as plt\n",
    "import numpy as np\n",
    "import time\n",
    "# https://gist.github.com/greydanus/f6eee59eaf1d90fcb3b534a25362cea4\n",
    "# https://stackoverflow.com/a/14434334\n",
    "# this function is used to update the plots for each epoch and error\n",
    "def plt_dynamic(x, vy, ty, ax, colors=['b']):\n",
    "    ax.plot(x, vy, 'b', label=\"Validation Loss\")\n",
    "    ax.plot(x, ty, 'r', label=\"Train Loss\")\n",
    "    plt.legend()\n",
    "    plt.grid()\n",
    "    fig.canvas.draw()"
   ]
  },
  {
   "cell_type": "markdown",
   "metadata": {},
   "source": [
    "1. CN-->Conv2d\n",
    "2. MP-->max_pooling2d\n",
    "3. DP-->Dropout\n",
    "4. FL-->Flatten\n",
    "5. DN-->Dense\n"
   ]
  },
  {
   "cell_type": "markdown",
   "metadata": {},
   "source": [
    "<h2> 1st Model  CN(72,(7,7))->CN(38,(7,7))->CN(20,(7,7))->MP(2,2)->DP(0.25)->FL()->DN(10)  </h2>"
   ]
  },
  {
   "cell_type": "code",
   "execution_count": 29,
   "metadata": {},
   "outputs": [
    {
     "name": "stdout",
     "output_type": "stream",
     "text": [
      "_________________________________________________________________\n",
      "Layer (type)                 Output Shape              Param #   \n",
      "=================================================================\n",
      "conv2d_1 (Conv2D)            (None, 22, 22, 72)        3600      \n",
      "_________________________________________________________________\n",
      "conv2d_2 (Conv2D)            (None, 16, 16, 38)        134102    \n",
      "_________________________________________________________________\n",
      "conv2d_3 (Conv2D)            (None, 10, 10, 20)        37260     \n",
      "_________________________________________________________________\n",
      "max_pooling2d_1 (MaxPooling2 (None, 5, 5, 20)          0         \n",
      "_________________________________________________________________\n",
      "dropout_1 (Dropout)          (None, 5, 5, 20)          0         \n",
      "_________________________________________________________________\n",
      "flatten_1 (Flatten)          (None, 500)               0         \n",
      "_________________________________________________________________\n",
      "dense_1 (Dense)              (None, 128)               64128     \n",
      "_________________________________________________________________\n",
      "dropout_2 (Dropout)          (None, 128)               0         \n",
      "_________________________________________________________________\n",
      "dense_2 (Dense)              (None, 10)                1290      \n",
      "=================================================================\n",
      "Total params: 240,380\n",
      "Trainable params: 240,380\n",
      "Non-trainable params: 0\n",
      "_________________________________________________________________\n"
     ]
    }
   ],
   "source": [
    "K.clear_session()\n",
    "model = Sequential()\n",
    "model.add(Conv2D(72, kernel_size=(7, 7),activation='relu',input_shape=input_shape))\n",
    "model.add(Conv2D(38, (7, 7), activation='relu'))\n",
    "model.add(Conv2D(20, (7, 7), activation='relu'))\n",
    "model.add(MaxPooling2D(pool_size=(2, 2)))\n",
    "model.add(Dropout(0.25))\n",
    "model.add(Flatten())\n",
    "model.add(Dense(128, activation='relu'))\n",
    "model.add(Dropout(0.5))\n",
    "model.add(Dense(num_classes, activation='softmax'))\n",
    "model.summary()"
   ]
  },
  {
   "cell_type": "code",
   "execution_count": 14,
   "metadata": {},
   "outputs": [
    {
     "name": "stdout",
     "output_type": "stream",
     "text": [
      "Train on 60000 samples, validate on 10000 samples\n",
      "Epoch 1/12\n",
      "60000/60000 [==============================] - 66s 1ms/step - loss: 0.2616 - acc: 0.9211 - val_loss: 0.0515 - val_acc: 0.9839\n",
      "Epoch 2/12\n",
      "60000/60000 [==============================] - 64s 1ms/step - loss: 0.0912 - acc: 0.9725 - val_loss: 0.0402 - val_acc: 0.9860\n",
      "Epoch 3/12\n",
      "60000/60000 [==============================] - 64s 1ms/step - loss: 0.0694 - acc: 0.9790 - val_loss: 0.0330 - val_acc: 0.9893\n",
      "Epoch 4/12\n",
      "60000/60000 [==============================] - 65s 1ms/step - loss: 0.0582 - acc: 0.9824 - val_loss: 0.0326 - val_acc: 0.9893\n",
      "Epoch 5/12\n",
      "60000/60000 [==============================] - 65s 1ms/step - loss: 0.0504 - acc: 0.9852 - val_loss: 0.0278 - val_acc: 0.9913\n",
      "Epoch 6/12\n",
      "60000/60000 [==============================] - 65s 1ms/step - loss: 0.0474 - acc: 0.9864 - val_loss: 0.0296 - val_acc: 0.9897\n",
      "Epoch 7/12\n",
      "60000/60000 [==============================] - 65s 1ms/step - loss: 0.0413 - acc: 0.9873 - val_loss: 0.0260 - val_acc: 0.9910\n",
      "Epoch 8/12\n",
      "60000/60000 [==============================] - 65s 1ms/step - loss: 0.0362 - acc: 0.9888 - val_loss: 0.0239 - val_acc: 0.9928\n",
      "Epoch 9/12\n",
      "60000/60000 [==============================] - 65s 1ms/step - loss: 0.0360 - acc: 0.9888 - val_loss: 0.0258 - val_acc: 0.9920\n",
      "Epoch 10/12\n",
      "60000/60000 [==============================] - 65s 1ms/step - loss: 0.0333 - acc: 0.9898 - val_loss: 0.0240 - val_acc: 0.9925\n",
      "Epoch 11/12\n",
      "60000/60000 [==============================] - 65s 1ms/step - loss: 0.0301 - acc: 0.9902 - val_loss: 0.0217 - val_acc: 0.9930\n",
      "Epoch 12/12\n",
      "60000/60000 [==============================] - 65s 1ms/step - loss: 0.0283 - acc: 0.9910 - val_loss: 0.0234 - val_acc: 0.9926\n"
     ]
    }
   ],
   "source": [
    "model.compile(loss=keras.losses.categorical_crossentropy,optimizer='adam', metrics=['accuracy'])\n",
    "history=model.fit(x_train, y_train,batch_size=batch_size,epochs=epochs,verbose=1,validation_data=(x_test, y_test))"
   ]
  },
  {
   "cell_type": "code",
   "execution_count": 15,
   "metadata": {},
   "outputs": [
    {
     "name": "stdout",
     "output_type": "stream",
     "text": [
      "Test score: 0.023416508061222523\n",
      "Test accuracy: 0.9926\n"
     ]
    },
    {
     "data": {
      "image/png": "[encoded data removed]",
      "text/plain": [
       "<Figure size 432x288 with 1 Axes>"
      ]
     },
     "metadata": {
      "needs_background": "light"
     },
     "output_type": "display_data"
    }
   ],
   "source": [
    "score = model.evaluate(x_test, y_test, verbose=0) \n",
    "print('Test score:', score[0]) \n",
    "print('Test accuracy:', score[1])\n",
    "\n",
    "fig,ax = plt.subplots(1,1)\n",
    "ax.set_xlabel('epoch') ; ax.set_ylabel('Categorical Crossentropy Loss')\n",
    "\n",
    "# list of epoch numbers\n",
    "x = list(range(1,epochs+1))\n",
    "vy = history.history['val_loss']\n",
    "ty = history.history['loss']\n",
    "plt_dynamic(x, vy, ty, ax)"
   ]
  },
  {
   "cell_type": "markdown",
   "metadata": {},
   "source": [
    "<h3> 2nd Model  CN(20,(5,5))->BN()->CN(20)->BN()->CN(40)->BN()->CN(10)->BN()->CN(10)->MP(2,2)->DP(0.25)->FL()->DN(128)  </h3>"
   ]
  },
  {
   "cell_type": "code",
   "execution_count": 22,
   "metadata": {},
   "outputs": [
    {
     "name": "stdout",
     "output_type": "stream",
     "text": [
      "WARNING:tensorflow:From C:\\Users\\nnagari\\AppData\\Local\\Continuum\\anaconda3\\envs\\tf_gpu\\lib\\site-packages\\keras\\backend\\tensorflow_backend.py:1834: The name tf.nn.fused_batch_norm is deprecated. Please use tf.compat.v1.nn.fused_batch_norm instead.\n",
      "\n",
      "_________________________________________________________________\n",
      "Layer (type)                 Output Shape              Param #   \n",
      "=================================================================\n",
      "conv2d_1 (Conv2D)            (None, 24, 24, 20)        520       \n",
      "_________________________________________________________________\n",
      "batch_normalization_1 (Batch (None, 24, 24, 20)        80        \n",
      "_________________________________________________________________\n",
      "conv2d_2 (Conv2D)            (None, 20, 20, 20)        10020     \n",
      "_________________________________________________________________\n",
      "batch_normalization_2 (Batch (None, 20, 20, 20)        80        \n",
      "_________________________________________________________________\n",
      "conv2d_3 (Conv2D)            (None, 16, 16, 40)        20040     \n",
      "_________________________________________________________________\n",
      "batch_normalization_3 (Batch (None, 16, 16, 40)        160       \n",
      "_________________________________________________________________\n",
      "conv2d_4 (Conv2D)            (None, 12, 12, 10)        10010     \n",
      "_________________________________________________________________\n",
      "batch_normalization_4 (Batch (None, 12, 12, 10)        40        \n",
      "_________________________________________________________________\n",
      "conv2d_5 (Conv2D)            (None, 8, 8, 10)          2510      \n",
      "_________________________________________________________________\n",
      "max_pooling2d_1 (MaxPooling2 (None, 4, 4, 10)          0         \n",
      "_________________________________________________________________\n",
      "dropout_1 (Dropout)          (None, 4, 4, 10)          0         \n",
      "_________________________________________________________________\n",
      "flatten_1 (Flatten)          (None, 160)               0         \n",
      "_________________________________________________________________\n",
      "dense_1 (Dense)              (None, 128)               20608     \n",
      "_________________________________________________________________\n",
      "dropout_2 (Dropout)          (None, 128)               0         \n",
      "_________________________________________________________________\n",
      "dense_2 (Dense)              (None, 10)                1290      \n",
      "=================================================================\n",
      "Total params: 65,358\n",
      "Trainable params: 65,178\n",
      "Non-trainable params: 180\n",
      "_________________________________________________________________\n"
     ]
    }
   ],
   "source": [
    "K.clear_session()\n",
    "model_1 = Sequential()\n",
    "model_1.add(Conv2D(20, kernel_size=(5, 5),activation='relu',input_shape=input_shape))\n",
    "model_1.add(BatchNormalization())\n",
    "model_1.add(Conv2D(20, (5, 5), activation='relu'))\n",
    "model_1.add(BatchNormalization())\n",
    "model_1.add(Conv2D(40, (5, 5), activation='relu'))\n",
    "model_1.add(BatchNormalization())\n",
    "model_1.add(Conv2D(10, (5, 5), activation='relu'))\n",
    "model_1.add(BatchNormalization())\n",
    "model_1.add(Conv2D(10, (5, 5), activation='relu'))\n",
    "model_1.add(MaxPooling2D(pool_size=(2, 2)))\n",
    "model_1.add(Dropout(0.25))\n",
    "model_1.add(Flatten())\n",
    "model_1.add(Dense(128, activation='relu'))\n",
    "model_1.add(Dropout(0.5))\n",
    "model_1.add(Dense(num_classes, activation='softmax'))\n",
    "model_1.summary()"
   ]
  },
  {
   "cell_type": "code",
   "execution_count": 23,
   "metadata": {},
   "outputs": [
    {
     "name": "stdout",
     "output_type": "stream",
     "text": [
      "Train on 60000 samples, validate on 10000 samples\n",
      "Epoch 1/12\n",
      "60000/60000 [==============================] - 52s 870us/step - loss: 0.4221 - acc: 0.8676 - val_loss: 0.0828 - val_acc: 0.9767\n",
      "Epoch 2/12\n",
      "60000/60000 [==============================] - 50s 833us/step - loss: 0.1077 - acc: 0.9700 - val_loss: 0.0470 - val_acc: 0.9852\n",
      "Epoch 3/12\n",
      "60000/60000 [==============================] - 50s 831us/step - loss: 0.0775 - acc: 0.9775 - val_loss: 0.0450 - val_acc: 0.9863\n",
      "Epoch 4/12\n",
      "60000/60000 [==============================] - 50s 832us/step - loss: 0.0664 - acc: 0.9813 - val_loss: 0.0429 - val_acc: 0.9867\n",
      "Epoch 5/12\n",
      "60000/60000 [==============================] - 50s 834us/step - loss: 0.0562 - acc: 0.9835 - val_loss: 0.0338 - val_acc: 0.9903\n",
      "Epoch 6/12\n",
      "60000/60000 [==============================] - 50s 832us/step - loss: 0.0494 - acc: 0.9858 - val_loss: 0.0301 - val_acc: 0.9908\n",
      "Epoch 7/12\n",
      "60000/60000 [==============================] - 50s 834us/step - loss: 0.0482 - acc: 0.9861 - val_loss: 0.0300 - val_acc: 0.9922\n",
      "Epoch 8/12\n",
      "60000/60000 [==============================] - 50s 834us/step - loss: 0.0462 - acc: 0.9865 - val_loss: 0.0337 - val_acc: 0.9898\n",
      "Epoch 9/12\n",
      "60000/60000 [==============================] - 50s 834us/step - loss: 0.0414 - acc: 0.9883 - val_loss: 0.0320 - val_acc: 0.9913\n",
      "Epoch 10/12\n",
      "60000/60000 [==============================] - 50s 832us/step - loss: 0.0372 - acc: 0.9891 - val_loss: 0.0348 - val_acc: 0.9903\n",
      "Epoch 11/12\n",
      "60000/60000 [==============================] - 50s 836us/step - loss: 0.0373 - acc: 0.9891 - val_loss: 0.0279 - val_acc: 0.9918\n",
      "Epoch 12/12\n",
      "60000/60000 [==============================] - 50s 838us/step - loss: 0.0337 - acc: 0.9898 - val_loss: 0.0293 - val_acc: 0.9914\n"
     ]
    }
   ],
   "source": [
    "model_1.compile(loss=keras.losses.categorical_crossentropy,optimizer='adam', metrics=['accuracy'])\n",
    "history=model_1.fit(x_train, y_train,batch_size=batch_size,epochs=epochs,verbose=1,validation_data=(x_test, y_test))"
   ]
  },
  {
   "cell_type": "code",
   "execution_count": 25,
   "metadata": {},
   "outputs": [
    {
     "name": "stdout",
     "output_type": "stream",
     "text": [
      "Test score: 0.029317251708592812\n",
      "Test accuracy: 0.9914\n"
     ]
    },
    {
     "data": {
      "image/png": "[encoded data removed]",
      "text/plain": [
       "<Figure size 432x288 with 1 Axes>"
      ]
     },
     "metadata": {
      "needs_background": "light"
     },
     "output_type": "display_data"
    }
   ],
   "source": [
    "score = model_1.evaluate(x_test, y_test, verbose=0) \n",
    "print('Test score:', score[0]) \n",
    "print('Test accuracy:', score[1])\n",
    "\n",
    "fig,ax = plt.subplots(1,1)\n",
    "ax.set_xlabel('epoch') ; ax.set_ylabel('Categorical Crossentropy Loss')\n",
    "\n",
    "# list of epoch numbers\n",
    "x = list(range(1,epochs+1))\n",
    "vy = history.history['val_loss']\n",
    "ty = history.history['loss']\n",
    "plt_dynamic(x, vy, ty, ax)"
   ]
  },
  {
   "cell_type": "markdown",
   "metadata": {},
   "source": [
    "<h6> 3rd Model  CN(30,(5,5))->BN()->CN(30)->BN()->CN(50)->BN()->CN(50)->BN()->CN(100)->BN()->CN(100)->MP(2,2)->BN()->CN(150)->MP(2,2)->DP(0.25)->FL()->DN(120)  </h6>"
   ]
  },
  {
   "cell_type": "code",
   "execution_count": 44,
   "metadata": {},
   "outputs": [
    {
     "name": "stdout",
     "output_type": "stream",
     "text": [
      "_________________________________________________________________\n",
      "Layer (type)                 Output Shape              Param #   \n",
      "=================================================================\n",
      "conv2d_1 (Conv2D)            (None, 26, 26, 30)        300       \n",
      "_________________________________________________________________\n",
      "batch_normalization_1 (Batch (None, 26, 26, 30)        120       \n",
      "_________________________________________________________________\n",
      "conv2d_2 (Conv2D)            (None, 24, 24, 30)        8130      \n",
      "_________________________________________________________________\n",
      "batch_normalization_2 (Batch (None, 24, 24, 30)        120       \n",
      "_________________________________________________________________\n",
      "conv2d_3 (Conv2D)            (None, 22, 22, 50)        13550     \n",
      "_________________________________________________________________\n",
      "batch_normalization_3 (Batch (None, 22, 22, 50)        200       \n",
      "_________________________________________________________________\n",
      "conv2d_4 (Conv2D)            (None, 20, 20, 50)        22550     \n",
      "_________________________________________________________________\n",
      "batch_normalization_4 (Batch (None, 20, 20, 50)        200       \n",
      "_________________________________________________________________\n",
      "conv2d_5 (Conv2D)            (None, 18, 18, 100)       45100     \n",
      "_________________________________________________________________\n",
      "batch_normalization_5 (Batch (None, 18, 18, 100)       400       \n",
      "_________________________________________________________________\n",
      "conv2d_6 (Conv2D)            (None, 16, 16, 100)       90100     \n",
      "_________________________________________________________________\n",
      "max_pooling2d_1 (MaxPooling2 (None, 8, 8, 100)         0         \n",
      "_________________________________________________________________\n",
      "batch_normalization_6 (Batch (None, 8, 8, 100)         400       \n",
      "_________________________________________________________________\n",
      "conv2d_7 (Conv2D)            (None, 6, 6, 150)         135150    \n",
      "_________________________________________________________________\n",
      "max_pooling2d_2 (MaxPooling2 (None, 3, 3, 150)         0         \n",
      "_________________________________________________________________\n",
      "dropout_1 (Dropout)          (None, 3, 3, 150)         0         \n",
      "_________________________________________________________________\n",
      "flatten_1 (Flatten)          (None, 1350)              0         \n",
      "_________________________________________________________________\n",
      "dense_1 (Dense)              (None, 120)               162120    \n",
      "_________________________________________________________________\n",
      "dropout_2 (Dropout)          (None, 120)               0         \n",
      "_________________________________________________________________\n",
      "dense_2 (Dense)              (None, 10)                1210      \n",
      "=================================================================\n",
      "Total params: 479,650\n",
      "Trainable params: 478,930\n",
      "Non-trainable params: 720\n",
      "_________________________________________________________________\n"
     ]
    }
   ],
   "source": [
    "K.clear_session()\n",
    "model_2 = Sequential()\n",
    "model_2.add(Conv2D(30, kernel_size=(3, 3),activation='relu',input_shape=input_shape))\n",
    "model_2.add(BatchNormalization())\n",
    "model_2.add(Conv2D(30, (3, 3), activation='relu'))\n",
    "model_2.add(BatchNormalization())\n",
    "model_2.add(Conv2D(50, (3, 3), activation='relu'))\n",
    "model_2.add(BatchNormalization())\n",
    "model_2.add(Conv2D(50, (3, 3), activation='relu'))\n",
    "model_2.add(BatchNormalization())\n",
    "model_2.add(Conv2D(100, (3, 3), activation='relu'))\n",
    "model_2.add(BatchNormalization())\n",
    "model_2.add(Conv2D(100, (3, 3), activation='relu'))\n",
    "model_2.add(MaxPooling2D(pool_size=(2, 2)))\n",
    "model_2.add(BatchNormalization())\n",
    "model_2.add(Conv2D(150, (3, 3), activation='relu'))\n",
    "model_2.add(MaxPooling2D(pool_size=(2, 2)))\n",
    "model_2.add(Dropout(0.25))\n",
    "model_2.add(Flatten())\n",
    "model_2.add(Dense(120, activation='relu'))\n",
    "model_2.add(Dropout(0.5))\n",
    "model_2.add(Dense(num_classes, activation='softmax'))\n",
    "model_2.summary()"
   ]
  },
  {
   "cell_type": "code",
   "execution_count": 45,
   "metadata": {},
   "outputs": [
    {
     "name": "stdout",
     "output_type": "stream",
     "text": [
      "Train on 60000 samples, validate on 10000 samples\n",
      "Epoch 1/12\n",
      "60000/60000 [==============================] - 195s 3ms/step - loss: 0.2658 - acc: 0.9202 - val_loss: 0.0506 - val_acc: 0.9843\n",
      "Epoch 2/12\n",
      "60000/60000 [==============================] - 198s 3ms/step - loss: 0.1011 - acc: 0.9720 - val_loss: 0.0383 - val_acc: 0.9891\n",
      "Epoch 3/12\n",
      "60000/60000 [==============================] - 198s 3ms/step - loss: 0.0750 - acc: 0.9799 - val_loss: 0.0309 - val_acc: 0.9903\n",
      "Epoch 4/12\n",
      "60000/60000 [==============================] - 197s 3ms/step - loss: 0.0681 - acc: 0.9812 - val_loss: 0.0270 - val_acc: 0.9915\n",
      "Epoch 5/12\n",
      "60000/60000 [==============================] - 198s 3ms/step - loss: 0.0546 - acc: 0.9852 - val_loss: 0.0338 - val_acc: 0.9901\n",
      "Epoch 6/12\n",
      "60000/60000 [==============================] - 198s 3ms/step - loss: 0.0450 - acc: 0.9872 - val_loss: 0.0300 - val_acc: 0.9924\n",
      "Epoch 7/12\n",
      "60000/60000 [==============================] - 198s 3ms/step - loss: 0.0428 - acc: 0.9878 - val_loss: 0.0251 - val_acc: 0.9911\n",
      "Epoch 8/12\n",
      "60000/60000 [==============================] - 198s 3ms/step - loss: 0.0402 - acc: 0.9886 - val_loss: 0.0353 - val_acc: 0.9898\n",
      "Epoch 9/12\n",
      "60000/60000 [==============================] - 198s 3ms/step - loss: 0.0386 - acc: 0.9893 - val_loss: 0.0234 - val_acc: 0.9940\n",
      "Epoch 10/12\n",
      "60000/60000 [==============================] - 199s 3ms/step - loss: 0.0361 - acc: 0.9902 - val_loss: 0.0260 - val_acc: 0.9925\n",
      "Epoch 11/12\n",
      "60000/60000 [==============================] - 198s 3ms/step - loss: 0.0347 - acc: 0.9906 - val_loss: 0.0278 - val_acc: 0.9916\n",
      "Epoch 12/12\n",
      "60000/60000 [==============================] - 197s 3ms/step - loss: 0.0295 - acc: 0.9917 - val_loss: 0.0343 - val_acc: 0.9923\n"
     ]
    }
   ],
   "source": [
    "model_2.compile(loss=keras.losses.categorical_crossentropy,optimizer='adam', metrics=['accuracy'])\n",
    "history=model_2.fit(x_train, y_train,batch_size=batch_size,epochs=epochs,verbose=1,validation_data=(x_test, y_test))"
   ]
  },
  {
   "cell_type": "code",
   "execution_count": 41,
   "metadata": {},
   "outputs": [
    {
     "name": "stdout",
     "output_type": "stream",
     "text": [
      "Test score: 0.029114628794253077\n",
      "Test accuracy: 0.9915\n"
     ]
    },
    {
     "data": {
      "image/png": "[encoded data removed]",
      "text/plain": [
       "<Figure size 432x288 with 1 Axes>"
      ]
     },
     "metadata": {
      "needs_background": "light"
     },
     "output_type": "display_data"
    }
   ],
   "source": [
    "score = model_2.evaluate(x_test, y_test, verbose=0) \n",
    "print('Test score:', score[0]) \n",
    "print('Test accuracy:', score[1])\n",
    "\n",
    "fig,ax = plt.subplots(1,1)\n",
    "ax.set_xlabel('epoch') ; ax.set_ylabel('Categorical Crossentropy Loss')\n",
    "\n",
    "# list of epoch numbers\n",
    "x = list(range(1,epochs+1))\n",
    "vy = history.history['val_loss']\n",
    "ty = history.history['loss']\n",
    "plt_dynamic(x, vy, ty, ax)"
   ]
  },
  {
   "cell_type": "markdown",
   "metadata": {},
   "source": [
    "<h3>Observation</h3>\n",
    "We have 28X28 size image if we add max pooling layer multiple times in Network demission of the image will reduce and we will get following error\n",
    "“Negative dimension size caused by subtracting 3 from 2 for 'conv2d_7/convolution' (op: 'Conv2D') with input shapes: [?,2,2,20], [3,3,20,20]. ”\n"
   ]
  },
  {
   "cell_type": "code",
   "execution_count": 59,
   "metadata": {},
   "outputs": [
    {
     "name": "stdout",
     "output_type": "stream",
     "text": [
      "(Model 1st:- CN(72,(7,7))->CN(38,(7,7))->CN(20,(7,7))->MP(2,2)->DP(0.25)->FL()->DN(10)\n",
      "\n",
      "(Model 2nd:-CN(20,(5,5))->BN()->CN(20)->BN()->CN(40)->BN()->CN(10)->BN()->CN(10)->MP(2,2)->DP(0.25)->FL()->DN(128)\n",
      "\n",
      "(Model 3rd:- CN(30,(5,5))->BN()->CN(30)->BN()->CN(50)->BN()->CN(50)->BN()->CN(100)->BN()->CN(100)->MP(2,2)->BN()->CN(150)->MP(2,2)->DP(0.25)->FL()->DN(120)\n"
     ]
    }
   ],
   "source": [
    "print(\"(Model 1st:-\",  \"CN(72,(7,7))->CN(38,(7,7))->CN(20,(7,7))->MP(2,2)->DP(0.25)->FL()->DN(10)\\n\")\n",
    "print(\"(Model 2nd:-CN(20,(5,5))->BN()->CN(20)->BN()->CN(40)->BN()->CN(10)->BN()->CN(10)->MP(2,2)->DP(0.25)->FL()->DN(128)\\n\")\n",
    "print(\"(Model 3rd:-\",  \"CN(30,(5,5))->BN()->CN(30)->BN()->CN(50)->BN()->CN(50)->BN()->CN(100)->BN()->CN(100)->MP(2,2)->BN()->CN(150)->MP(2,2)->DP(0.25)->FL()->DN(120)\")\n"
   ]
  },
  {
   "cell_type": "code",
   "execution_count": 62,
   "metadata": {},
   "outputs": [
    {
     "name": "stdout",
     "output_type": "stream",
     "text": [
      "+-----------+----------+\n",
      "|   Model   | Accuracy |\n",
      "+-----------+----------+\n",
      "| Model 1st |  0.9926  |\n",
      "| Model 2nd |  0.9914  |\n",
      "| Model 3nd |  0.9915  |\n",
      "+-----------+----------+\n"
     ]
    }
   ],
   "source": [
    "from prettytable import PrettyTable  \n",
    "table = PrettyTable()\n",
    "\n",
    "table.field_names = [\"Model\",\"Accuracy\"]\n",
    "\n",
    "table.add_row([\"Model 1st\",\"0.9926\" ])\n",
    "table.add_row([\"Model 2nd\",\"0.9914\" ])\n",
    "table.add_row([\"Model 3nd\",\"0.9915\" ])\n",
    "print(table)"
   ]
  }
 ],
 "metadata": {
  "colab": {
   "collapsed_sections": [],
   "name": "CNN_MNIST.ipynb",
   "provenance": [],
   "version": "0.3.2"
  },
  "kernelspec": {
   "display_name": "Python 3",
   "language": "python",
   "name": "python3"
  },
  "language_info": {
   "codemirror_mode": {
    "name": "ipython",
    "version": 3
   },
   "file_extension": ".py",
   "mimetype": "text/x-python",
   "name": "python",
   "nbconvert_exporter": "python",
   "pygments_lexer": "ipython3",
   "version": "3.7.4"
  }
 },
 "nbformat": 4,
 "nbformat_minor": 1
}
